{
 "cells": [
  {
   "cell_type": "markdown",
   "metadata": {},
   "source": [
    "### 본 코드는 HR data를 통해 다양한 예측을 하는 코드입니다. (전처리 편)\n",
    "#### [Data Reference: Kaggle](https://www.kaggle.com/rhuebner/human-resources-data-set/data)"
   ]
  },
  {
   "cell_type": "code",
   "execution_count": 16,
   "metadata": {},
   "outputs": [],
   "source": [
    "# Suengjae Hong (2018-06-12)\n",
    "# Predicting something by using HR dataset\n",
    "# I directly changed variable name in the fifth dataset (salary_grid)"
   ]
  },
  {
   "cell_type": "code",
   "execution_count": 252,
   "metadata": {},
   "outputs": [
    {
     "data": {
      "text/html": [
       "<ol class=list-inline>\n",
       "\t<li>'HRDataset_v9.csv'</li>\n",
       "\t<li>'production_staff.csv'</li>\n",
       "\t<li>'recruiting_costs.csv'</li>\n",
       "\t<li>'salary_grid.csv'</li>\n",
       "</ol>\n"
      ],
      "text/latex": [
       "\\begin{enumerate*}\n",
       "\\item 'HRDataset\\_v9.csv'\n",
       "\\item 'production\\_staff.csv'\n",
       "\\item 'recruiting\\_costs.csv'\n",
       "\\item 'salary\\_grid.csv'\n",
       "\\end{enumerate*}\n"
      ],
      "text/markdown": [
       "1. 'HRDataset_v9.csv'\n",
       "2. 'production_staff.csv'\n",
       "3. 'recruiting_costs.csv'\n",
       "4. 'salary_grid.csv'\n",
       "\n",
       "\n"
      ],
      "text/plain": [
       "[1] \"HRDataset_v9.csv\"     \"production_staff.csv\" \"recruiting_costs.csv\"\n",
       "[4] \"salary_grid.csv\"     "
      ]
     },
     "metadata": {},
     "output_type": "display_data"
    }
   ],
   "source": [
    "library(dplyr)\n",
    "\n",
    "setwd(\"~/kaggle/human-resources-data-set\")\n",
    "options(warn=-1)\n",
    "\n",
    "dbList <- list.files(getwd(),pattern='*csv')\n",
    "dbList"
   ]
  },
  {
   "cell_type": "markdown",
   "metadata": {},
   "source": [
    "본 데이터는 총 4개의 데이터로 구성이 되어 있습니다. \n",
    "\n",
    "HRDataset_v9는 전체적인 data set이고, 나머지는 부수적으로 확인을 하는 자료로 생각하면 될 것 같습니다."
   ]
  },
  {
   "cell_type": "code",
   "execution_count": 253,
   "metadata": {},
   "outputs": [
    {
     "data": {
      "text/html": [
       "<table>\n",
       "<thead><tr><th scope=col>Position</th><th scope=col>salary_min</th><th scope=col>salary_mid</th><th scope=col>salary_max</th><th scope=col>hourly_min</th><th scope=col>hourly_mid</th><th scope=col>hourly_max</th></tr></thead>\n",
       "<tbody>\n",
       "\t<tr><td>Administrative Assistant    </td><td>30000                       </td><td>40000                       </td><td>50000                       </td><td>14.42                       </td><td>19.23                       </td><td>24.04                       </td></tr>\n",
       "\t<tr><td>Sr. Administrative Assistant</td><td>35000                       </td><td>45000                       </td><td>55000                       </td><td>16.83                       </td><td>21.63                       </td><td>26.44                       </td></tr>\n",
       "\t<tr><td>Accountant I                </td><td>42274                       </td><td>51425                       </td><td>62299                       </td><td>20.32                       </td><td>24.72                       </td><td>29.95                       </td></tr>\n",
       "\t<tr><td>Accountant II               </td><td>50490                       </td><td>62158                       </td><td>74658                       </td><td>24.27                       </td><td>29.88                       </td><td>35.89                       </td></tr>\n",
       "\t<tr><td>Sr. Accountant              </td><td>63264                       </td><td>76988                       </td><td>92454                       </td><td>30.42                       </td><td>37.01                       </td><td>44.45                       </td></tr>\n",
       "\t<tr><td>Network Engineer            </td><td>50845                       </td><td>66850                       </td><td>88279                       </td><td>24.44                       </td><td>32.14                       </td><td>42.44                       </td></tr>\n",
       "</tbody>\n",
       "</table>\n"
      ],
      "text/latex": [
       "\\begin{tabular}{r|lllllll}\n",
       " Position & salary\\_min & salary\\_mid & salary\\_max & hourly\\_min & hourly\\_mid & hourly\\_max\\\\\n",
       "\\hline\n",
       "\t Administrative Assistant     & 30000                        & 40000                        & 50000                        & 14.42                        & 19.23                        & 24.04                       \\\\\n",
       "\t Sr. Administrative Assistant & 35000                        & 45000                        & 55000                        & 16.83                        & 21.63                        & 26.44                       \\\\\n",
       "\t Accountant I                 & 42274                        & 51425                        & 62299                        & 20.32                        & 24.72                        & 29.95                       \\\\\n",
       "\t Accountant II                & 50490                        & 62158                        & 74658                        & 24.27                        & 29.88                        & 35.89                       \\\\\n",
       "\t Sr. Accountant               & 63264                        & 76988                        & 92454                        & 30.42                        & 37.01                        & 44.45                       \\\\\n",
       "\t Network Engineer             & 50845                        & 66850                        & 88279                        & 24.44                        & 32.14                        & 42.44                       \\\\\n",
       "\\end{tabular}\n"
      ],
      "text/markdown": [
       "\n",
       "Position | salary_min | salary_mid | salary_max | hourly_min | hourly_mid | hourly_max | \n",
       "|---|---|---|---|---|---|\n",
       "| Administrative Assistant     | 30000                        | 40000                        | 50000                        | 14.42                        | 19.23                        | 24.04                        | \n",
       "| Sr. Administrative Assistant | 35000                        | 45000                        | 55000                        | 16.83                        | 21.63                        | 26.44                        | \n",
       "| Accountant I                 | 42274                        | 51425                        | 62299                        | 20.32                        | 24.72                        | 29.95                        | \n",
       "| Accountant II                | 50490                        | 62158                        | 74658                        | 24.27                        | 29.88                        | 35.89                        | \n",
       "| Sr. Accountant               | 63264                        | 76988                        | 92454                        | 30.42                        | 37.01                        | 44.45                        | \n",
       "| Network Engineer             | 50845                        | 66850                        | 88279                        | 24.44                        | 32.14                        | 42.44                        | \n",
       "\n",
       "\n"
      ],
      "text/plain": [
       "  Position                     salary_min salary_mid salary_max hourly_min\n",
       "1 Administrative Assistant     30000      40000      50000      14.42     \n",
       "2 Sr. Administrative Assistant 35000      45000      55000      16.83     \n",
       "3 Accountant I                 42274      51425      62299      20.32     \n",
       "4 Accountant II                50490      62158      74658      24.27     \n",
       "5 Sr. Accountant               63264      76988      92454      30.42     \n",
       "6 Network Engineer             50845      66850      88279      24.44     \n",
       "  hourly_mid hourly_max\n",
       "1 19.23      24.04     \n",
       "2 21.63      26.44     \n",
       "3 24.72      29.95     \n",
       "4 29.88      35.89     \n",
       "5 37.01      44.45     \n",
       "6 32.14      42.44     "
      ]
     },
     "metadata": {},
     "output_type": "display_data"
    }
   ],
   "source": [
    "hrdta <- list()\n",
    "\n",
    "for(i in 1:length(dbList)){\n",
    "    hrdta[[i]] <- read.csv(dbList[i],header=TRUE,fileEncoding=\"UTF-8\")\n",
    "    }\n",
    "\n",
    "head(hrdta[[4]]) # to check each data set, change [[i]]"
   ]
  },
  {
   "cell_type": "markdown",
   "metadata": {},
   "source": [
    "일단 모든 dataset을 하나의 리스트(list)로 담았습니다. \n",
    "\n",
    "간략하게 hrdta라는 리스트에는\n",
    "(1) HRDataset_v9\n",
    "(2) production_staff\n",
    "(3) recruiting_costs\n",
    "(4) salary_grid\n",
    "의 데이터가 모두 하나의 리스트 변수에 담겨 있고, 이들을 확인하기 위해서는 hrdta[[n]]로써 해당 위치의 n을 입력하면 확인 할 수 있습니다. \n",
    "\n",
    "그 예시로써 hrdta[[4]]를 입력하여 salary_grid가 어떠한 데이터인지 확인하였습니다."
   ]
  },
  {
   "cell_type": "code",
   "execution_count": 260,
   "metadata": {},
   "outputs": [
    {
     "name": "stdout",
     "output_type": "stream",
     "text": [
      "'data.frame':\t310 obs. of  28 variables:\n",
      " $ Employee.Name      : Factor w/ 310 levels \"Adinolfi, Wilson  K\",..: 29 155 270 128 256 261 160 226 25 90 ...\n",
      " $ Employee.Number    : int  1103024456 1106026572 1302053333 1211050782 1307059817 711007713 1102024115 1206043417 1307060188 1201031308 ...\n",
      " $ MarriedID          : int  1 0 0 1 0 1 1 1 1 1 ...\n",
      " $ MaritalStatusID    : int  1 2 0 1 0 1 1 1 1 1 ...\n",
      " $ GenderID           : int  0 1 1 0 0 0 1 1 0 0 ...\n",
      " $ EmpStatus_ID       : int  1 1 1 1 1 5 1 5 1 1 ...\n",
      " $ DeptID             : int  1 1 1 1 1 1 1 1 1 1 ...\n",
      " $ Perf_ScoreID       : int  3 3 3 9 9 3 3 3 0 3 ...\n",
      " $ Age                : int  30 34 31 32 30 30 33 33 31 39 ...\n",
      " $ Pay.Rate           : num  28.5 23 29 21.5 16.6 ...\n",
      " $ State              : Factor w/ 28 levels \"AL\",\"AZ\",\"CA\",..: 11 11 11 11 11 11 11 11 11 11 ...\n",
      " $ Zip                : int  1450 1460 2703 2170 2330 1844 1460 2045 2468 2050 ...\n",
      " $ DOB                : Factor w/ 306 levels \"1/12/1973\",\"1/12/1974\",..: 54 148 274 282 170 204 200 61 153 137 ...\n",
      " $ Sex                : Factor w/ 2 levels \"Female\",\"Male\": 1 2 2 1 1 1 2 2 1 1 ...\n",
      " $ MaritalDesc        : Factor w/ 5 levels \"Divorced\",\"Married\",..: 2 1 4 2 4 2 2 2 2 2 ...\n",
      " $ CitizenDesc        : Factor w/ 3 levels \"Eligible NonCitizen\",..: 3 3 3 3 3 3 3 1 3 3 ...\n",
      " $ Hispanic.Latino    : Factor w/ 4 levels \"no\",\"No\",\"yes\",..: 2 2 2 2 2 2 2 2 2 1 ...\n",
      " $ RaceDesc           : Factor w/ 6 levels \"American Indian or Alaska Native\",..: 3 3 6 6 6 2 6 3 2 6 ...\n",
      " $ Date.of.Hire       : Factor w/ 99 levels \"1/10/2011\",\"1/20/2013\",..: 20 9 94 32 52 92 8 36 32 5 ...\n",
      " $ Days.Employed      : int  3317 1420 1154 58 940 730 691 1636 1014 3247 ...\n",
      " $ Date.of.Termination: Factor w/ 94 levels \"\",\"1/11/2014\",..: 1 1 1 39 1 85 1 71 1 1 ...\n",
      " $ Reason.For.Term    : Factor w/ 17 levels \"Another position\",..: 11 11 11 11 11 3 11 3 11 11 ...\n",
      " $ Employment.Status  : Factor w/ 5 levels \"Active\",\"Future Start\",..: 1 1 1 1 1 5 1 5 1 1 ...\n",
      " $ Department         : Factor w/ 6 levels \"Admin Offices\",..: 1 1 1 1 1 1 1 1 1 1 ...\n",
      " $ Position           : Factor w/ 28 levels \"Accountant I\",..: 1 1 1 2 2 2 23 23 26 26 ...\n",
      " $ Manager.Name       : Factor w/ 21 levels \"Alex Sweetwater\",..: 4 4 4 4 4 4 11 11 4 3 ...\n",
      " $ Employee.Source    : Factor w/ 23 levels \"Billboard\",\"Careerbuilder\",..: 4 22 9 17 22 4 11 4 4 15 ...\n",
      " $ Performance.Score  : Factor w/ 7 levels \"90-day meets\",..: 4 4 4 5 5 4 4 4 1 4 ...\n"
     ]
    }
   ],
   "source": [
    "str(hrdta[[1]])"
   ]
  },
  {
   "cell_type": "markdown",
   "metadata": {},
   "source": [
    "먼저 core data set인 HRDataset_v9 (이하 편의 상 hrdta[[1]] 등으로 칭하도록 하겠습니다)의 데이터 요약을 하였습니다. \n",
    "\n",
    "가장 먼저 눈에 띄는 건 Employee.Number (종업원의 id를 의미)가 integer로 표현이 되어 있다는 것입니다. 명목변수(id)이다보니 해당 변수를 factor로 변경시킬 예정입니다. (그 외에도 MarriedID, MartialStatusID, GenderID, EmpStatus_Id, DeptID 모두 명목 변수처럼 보입니다. 왜냐하면 MarriedID - 기혼 여부, MartialStatusID - 기혼 여부2, GenderID - 성별, DeptID - 부서 이기 때문입니다. 그러나 본 데이터에서는 description을 위하여 integer variable을 별도로 생성한 것 같습니다. 각각의 변수들은 Gender ID를 제외하고 MartialDesc, Employment.Status, Department을 numeric화 시켰습니다. \n",
    "\n",
    "따라서 해당 integer화 되어 있는 factor 변수들은 체크만 해두도록 하겠습니다. Performance ID의 경우는 예상으로는 평가자의 순서척도로 의해 결정되었기 때문에 이 역시 명목 변수처럼 보이지만, 조금 있다가 확인해보도록 하겠습니다."
   ]
  },
  {
   "cell_type": "code",
   "execution_count": 255,
   "metadata": {},
   "outputs": [],
   "source": [
    "# hrdta[[1]]$MarriedID <- as.factor(hrdta[[1]]$MarriedID)\n",
    "# hrdta[[1]]$MaritalStatusID <- as.factor(hrdta[[1]]$MaritalStatusID)\n",
    "# hrdta[[1]]$GenderID <- as.factor(hrdta[[1]]$GenderID)\n",
    "# hrdta[[1]]$EmpStatus_ID <- as.factor(hrdta[[1]]$EmpStatus_ID)\n",
    "# hrdta[[1]]$DeptID <- as.factor(hrdta[[1]]$DeptID)"
   ]
  },
  {
   "cell_type": "markdown",
   "metadata": {},
   "source": [
    "\"#\"을 적을 경우 R에서는 주석 표시를 남길 수 있습니다."
   ]
  },
  {
   "cell_type": "code",
   "execution_count": 256,
   "metadata": {},
   "outputs": [
    {
     "name": "stdout",
     "output_type": "stream",
     "text": [
      "'data.frame':\t310 obs. of  6 variables:\n",
      " $ Employee.Number: int  1103024456 1106026572 1302053333 1211050782 1307059817 711007713 1102024115 1206043417 1307060188 1201031308 ...\n",
      " $ MarriedID      : int  1 0 0 1 0 1 1 1 1 1 ...\n",
      " $ MaritalStatusID: int  1 2 0 1 0 1 1 1 1 1 ...\n",
      " $ GenderID       : int  0 1 1 0 0 0 1 1 0 0 ...\n",
      " $ EmpStatus_ID   : int  1 1 1 1 1 5 1 5 1 1 ...\n",
      " $ DeptID         : int  1 1 1 1 1 1 1 1 1 1 ...\n"
     ]
    }
   ],
   "source": [
    "str(hrdta[[1]][,2:7])"
   ]
  },
  {
   "cell_type": "markdown",
   "metadata": {},
   "source": [
    "확인하면, Employee.Number가 309개의 level로 되어 있다는 점을 확인할 수 있네요. 이는 전체 310개의 record에서 Employee.Number가 중복이 있다는 점을 확인 할 수 있습니다. \n",
    "\n",
    "따라서 해당 중복 데이터가 (1)두 개의 레코드가 들어간 인물인지 혹은 (2) 다른 사람인데 Id가 중복된 것인지를 확인 할 필요가 있습니다. 예상하면, (2)일 것입니다. 왜냐하면 Employee.Name은 310개의 level을 갖고 있기 때문입니다. 물론 이름을 바꾸었을 경우도 배제 할 수 없으니 확인해보도록 하겠습니다."
   ]
  },
  {
   "cell_type": "code",
   "execution_count": 257,
   "metadata": {},
   "outputs": [
    {
     "data": {
      "text/html": [
       "<table>\n",
       "<thead><tr><th></th><th scope=col>Employee.Name</th><th scope=col>Employee.Number</th><th scope=col>MarriedID</th><th scope=col>MaritalStatusID</th><th scope=col>GenderID</th><th scope=col>EmpStatus_ID</th><th scope=col>DeptID</th><th scope=col>Perf_ScoreID</th><th scope=col>Age</th><th scope=col>Pay.Rate</th><th scope=col>...</th><th scope=col>Date.of.Hire</th><th scope=col>Days.Employed</th><th scope=col>Date.of.Termination</th><th scope=col>Reason.For.Term</th><th scope=col>Employment.Status</th><th scope=col>Department</th><th scope=col>Position</th><th scope=col>Manager.Name</th><th scope=col>Employee.Source</th><th scope=col>Performance.Score</th></tr></thead>\n",
       "<tbody>\n",
       "\t<tr><th scope=row>154</th><td>Ndzi, Horia            </td><td>1204033041             </td><td>1                      </td><td>1                      </td><td>1                      </td><td>5                      </td><td>5                      </td><td>3                      </td><td>35                     </td><td>22                     </td><td>...                    </td><td>4/1/2013               </td><td>1150                   </td><td>5/25/2016              </td><td>more money             </td><td>Voluntarily Terminated </td><td>Production             </td><td>Production Technician I</td><td>Amy Dunn               </td><td>Employee Referral      </td><td>Fully Meets            </td></tr>\n",
       "</tbody>\n",
       "</table>\n"
      ],
      "text/latex": [
       "\\begin{tabular}{r|llllllllllllllllllllllllllll}\n",
       "  & Employee.Name & Employee.Number & MarriedID & MaritalStatusID & GenderID & EmpStatus\\_ID & DeptID & Perf\\_ScoreID & Age & Pay.Rate & ... & Date.of.Hire & Days.Employed & Date.of.Termination & Reason.For.Term & Employment.Status & Department & Position & Manager.Name & Employee.Source & Performance.Score\\\\\n",
       "\\hline\n",
       "\t154 & Ndzi, Horia             & 1204033041              & 1                       & 1                       & 1                       & 5                       & 5                       & 3                       & 35                      & 22                      & ...                     & 4/1/2013                & 1150                    & 5/25/2016               & more money              & Voluntarily Terminated  & Production              & Production Technician I & Amy Dunn                & Employee Referral       & Fully Meets            \\\\\n",
       "\\end{tabular}\n"
      ],
      "text/markdown": [
       "\n",
       "| <!--/--> | Employee.Name | Employee.Number | MarriedID | MaritalStatusID | GenderID | EmpStatus_ID | DeptID | Perf_ScoreID | Age | Pay.Rate | ... | Date.of.Hire | Days.Employed | Date.of.Termination | Reason.For.Term | Employment.Status | Department | Position | Manager.Name | Employee.Source | Performance.Score | \n",
       "|---|\n",
       "| 154 | Ndzi, Horia             | 1204033041              | 1                       | 1                       | 1                       | 5                       | 5                       | 3                       | 35                      | 22                      | ...                     | 4/1/2013                | 1150                    | 5/25/2016               | more money              | Voluntarily Terminated  | Production              | Production Technician I | Amy Dunn                | Employee Referral       | Fully Meets             | \n",
       "\n",
       "\n"
      ],
      "text/plain": [
       "    Employee.Name Employee.Number MarriedID MaritalStatusID GenderID\n",
       "154 Ndzi, Horia   1204033041      1         1               1       \n",
       "    EmpStatus_ID DeptID Perf_ScoreID Age Pay.Rate ... Date.of.Hire\n",
       "154 5            5      3            35  22       ... 4/1/2013    \n",
       "    Days.Employed Date.of.Termination Reason.For.Term Employment.Status     \n",
       "154 1150          5/25/2016           more money      Voluntarily Terminated\n",
       "    Department        Position                Manager.Name Employee.Source  \n",
       "154 Production        Production Technician I Amy Dunn     Employee Referral\n",
       "    Performance.Score\n",
       "154 Fully Meets      "
      ]
     },
     "metadata": {},
     "output_type": "display_data"
    }
   ],
   "source": [
    "hrdta[[1]][which(duplicated(hrdta[[1]]$Employee.Number)),]"
   ]
  },
  {
   "cell_type": "markdown",
   "metadata": {},
   "source": [
    "현재 중복되었다고 판단되는 Employee를 반환하였습니다. \n",
    "\n",
    "그렇다면 1204033041 이라는 Employee.Number를 가진 사람이 한 명 더 있다는 것을 의미합니다. 그게 누구인지 확인하도록 하겠습니다."
   ]
  },
  {
   "cell_type": "code",
   "execution_count": 258,
   "metadata": {},
   "outputs": [
    {
     "data": {
      "text/html": [
       "<table>\n",
       "<thead><tr><th></th><th scope=col>Employee.Name</th><th scope=col>Employee.Number</th><th scope=col>MarriedID</th><th scope=col>MaritalStatusID</th><th scope=col>GenderID</th><th scope=col>EmpStatus_ID</th><th scope=col>DeptID</th><th scope=col>Perf_ScoreID</th><th scope=col>Age</th><th scope=col>Pay.Rate</th><th scope=col>...</th><th scope=col>Date.of.Hire</th><th scope=col>Days.Employed</th><th scope=col>Date.of.Termination</th><th scope=col>Reason.For.Term</th><th scope=col>Employment.Status</th><th scope=col>Department</th><th scope=col>Position</th><th scope=col>Manager.Name</th><th scope=col>Employee.Source</th><th scope=col>Performance.Score</th></tr></thead>\n",
       "<tbody>\n",
       "\t<tr><th scope=row>153</th><td>Ndzi, Colombui         </td><td>1204033041             </td><td>0                      </td><td>0                      </td><td>1                      </td><td>5                      </td><td>5                      </td><td>3                      </td><td>29                     </td><td>18                     </td><td>...                    </td><td>9/26/2011              </td><td> 921                   </td><td>4/4/2014               </td><td>return to school       </td><td>Voluntarily Terminated </td><td>Production             </td><td>Production Technician I</td><td>Webster Butler         </td><td>Diversity Job Fair     </td><td>Fully Meets            </td></tr>\n",
       "\t<tr><th scope=row>154</th><td>Ndzi, Horia            </td><td>1204033041             </td><td>1                      </td><td>1                      </td><td>1                      </td><td>5                      </td><td>5                      </td><td>3                      </td><td>35                     </td><td>22                     </td><td>...                    </td><td>4/1/2013               </td><td>1150                   </td><td>5/25/2016              </td><td>more money             </td><td>Voluntarily Terminated </td><td>Production             </td><td>Production Technician I</td><td>Amy Dunn               </td><td>Employee Referral      </td><td>Fully Meets            </td></tr>\n",
       "</tbody>\n",
       "</table>\n"
      ],
      "text/latex": [
       "\\begin{tabular}{r|llllllllllllllllllllllllllll}\n",
       "  & Employee.Name & Employee.Number & MarriedID & MaritalStatusID & GenderID & EmpStatus\\_ID & DeptID & Perf\\_ScoreID & Age & Pay.Rate & ... & Date.of.Hire & Days.Employed & Date.of.Termination & Reason.For.Term & Employment.Status & Department & Position & Manager.Name & Employee.Source & Performance.Score\\\\\n",
       "\\hline\n",
       "\t153 & Ndzi, Colombui          & 1204033041              & 0                       & 0                       & 1                       & 5                       & 5                       & 3                       & 29                      & 18                      & ...                     & 9/26/2011               &  921                    & 4/4/2014                & return to school        & Voluntarily Terminated  & Production              & Production Technician I & Webster Butler          & Diversity Job Fair      & Fully Meets            \\\\\n",
       "\t154 & Ndzi, Horia             & 1204033041              & 1                       & 1                       & 1                       & 5                       & 5                       & 3                       & 35                      & 22                      & ...                     & 4/1/2013                & 1150                    & 5/25/2016               & more money              & Voluntarily Terminated  & Production              & Production Technician I & Amy Dunn                & Employee Referral       & Fully Meets            \\\\\n",
       "\\end{tabular}\n"
      ],
      "text/markdown": [
       "\n",
       "| <!--/--> | Employee.Name | Employee.Number | MarriedID | MaritalStatusID | GenderID | EmpStatus_ID | DeptID | Perf_ScoreID | Age | Pay.Rate | ... | Date.of.Hire | Days.Employed | Date.of.Termination | Reason.For.Term | Employment.Status | Department | Position | Manager.Name | Employee.Source | Performance.Score | \n",
       "|---|---|\n",
       "| 153 | Ndzi, Colombui          | 1204033041              | 0                       | 0                       | 1                       | 5                       | 5                       | 3                       | 29                      | 18                      | ...                     | 9/26/2011               |  921                    | 4/4/2014                | return to school        | Voluntarily Terminated  | Production              | Production Technician I | Webster Butler          | Diversity Job Fair      | Fully Meets             | \n",
       "| 154 | Ndzi, Horia             | 1204033041              | 1                       | 1                       | 1                       | 5                       | 5                       | 3                       | 35                      | 22                      | ...                     | 4/1/2013                | 1150                    | 5/25/2016               | more money              | Voluntarily Terminated  | Production              | Production Technician I | Amy Dunn                | Employee Referral       | Fully Meets             | \n",
       "\n",
       "\n"
      ],
      "text/plain": [
       "    Employee.Name  Employee.Number MarriedID MaritalStatusID GenderID\n",
       "153 Ndzi, Colombui 1204033041      0         0               1       \n",
       "154 Ndzi, Horia    1204033041      1         1               1       \n",
       "    EmpStatus_ID DeptID Perf_ScoreID Age Pay.Rate ... Date.of.Hire\n",
       "153 5            5      3            29  18       ... 9/26/2011   \n",
       "154 5            5      3            35  22       ... 4/1/2013    \n",
       "    Days.Employed Date.of.Termination Reason.For.Term  Employment.Status     \n",
       "153  921          4/4/2014            return to school Voluntarily Terminated\n",
       "154 1150          5/25/2016           more money       Voluntarily Terminated\n",
       "    Department        Position                Manager.Name   Employee.Source   \n",
       "153 Production        Production Technician I Webster Butler Diversity Job Fair\n",
       "154 Production        Production Technician I Amy Dunn       Employee Referral \n",
       "    Performance.Score\n",
       "153 Fully Meets      \n",
       "154 Fully Meets      "
      ]
     },
     "metadata": {},
     "output_type": "display_data"
    }
   ],
   "source": [
    "check <- subset(hrdta[[1]],\n",
    "               Employee.Number == 1204033041)\n",
    "check"
   ]
  },
  {
   "cell_type": "markdown",
   "metadata": {},
   "source": [
    "확인하면 Ndzi, Colombui와 Ndzi, Horia가 중복된 Number를 갖고 있습니다. 이들에 대한 정보는 사실상 다른 정보이기 때문에 서로 다른 ID를 부여해야 할 것 같습니다. "
   ]
  },
  {
   "cell_type": "code",
   "execution_count": 264,
   "metadata": {},
   "outputs": [
    {
     "data": {
      "text/html": [
       "0"
      ],
      "text/latex": [
       "0"
      ],
      "text/markdown": [
       "0"
      ],
      "text/plain": [
       "[1] 0"
      ]
     },
     "metadata": {},
     "output_type": "display_data"
    }
   ],
   "source": [
    "rm(check) # delete check variable \n",
    "\n",
    "hrdta1 <- hrdta[[1]]\n",
    "\n",
    "hrdta1$Employee.Number <- replace(hrdta1$Employee.Number,\n",
    "                                     hrdta1$Employee.Name == \"Ndzi, Colombui\",\n",
    "                                     9999999999)\n",
    "\n",
    "hrdta1$Employee.Number <- as.factor(hrdta1$Employee.Number)\n",
    "\n",
    "nrow(hrdta1[which(duplicated(hrdta1$Employee.Number)),])"
   ]
  },
  {
   "cell_type": "markdown",
   "metadata": {},
   "source": [
    "따라서 Horia Ndzi의 Employee ID를 편의상 9999999999 으로 바꾸었습니다.. \n",
    "\n",
    "이후 중복된 레코드의 수를 세어보니 0으로 나옵니다.\n",
    "\n",
    "그리고 정제된 hrdta[[1]]을 hrdta1라는 변수로 만들었습니다. \n",
    "\n",
    "### 이 내용을 작성하며 알게 된 사실인데, 미리 as.factor로 변경을 할 경우 데이터 세트 상에 factor로 존재하는 값들은 일종의 집합을 형성하게 됩니다. 따라서 해당 factor 값과 같지 않은 다른 값이 들어오게 되면 해당 변수 값은 NA로 처리가 됩니다. 따라서 Employee.Number(ID)를 integer로 유지하다가 뒷 부분에서 factor (범주형) 변수로 변경을 하였습니다. \n",
    "\n",
    "### 또 다른 방식으로는 해당 ID를 string type으로 바꾸어서 할 수도 있을 것 같습니다."
   ]
  },
  {
   "cell_type": "code",
   "execution_count": 265,
   "metadata": {},
   "outputs": [
    {
     "name": "stdout",
     "output_type": "stream",
     "text": [
      "'data.frame':\t256 obs. of  15 variables:\n",
      " $ Employee.Name      : Factor w/ 210 levels \"\",\"Adinolfi, Wilson  K\",..: 5 22 28 50 79 88 93 113 130 152 ...\n",
      " $ Race.Desc          : Factor w/ 7 levels \"\",\"American Indian or Alaska Native\",..: 7 3 7 7 7 7 3 7 5 7 ...\n",
      " $ Date.of.Hire       : Factor w/ 71 levels \"\",\"1/10/2011\",..: 59 71 3 66 42 2 25 71 62 12 ...\n",
      " $ TermDate           : Factor w/ 77 levels \"\",\"1/11/2014\",..: 1 63 1 1 1 18 69 1 1 42 ...\n",
      " $ Reason.for.Term    : Factor w/ 18 levels \"\",\"Another position\",..: 12 16 12 12 12 3 18 12 12 2 ...\n",
      " $ Employment.Status  : Factor w/ 6 levels \"\",\"Active\",\"Future Start\",..: 2 6 2 2 2 5 6 2 2 6 ...\n",
      " $ Department         : Factor w/ 2 levels \"\",\"Production       \": 2 2 2 2 2 2 2 2 2 2 ...\n",
      " $ Position           : Factor w/ 4 levels \"\",\"Production Manager\",..: 2 2 2 2 2 2 2 2 2 2 ...\n",
      " $ Pay                : Factor w/ 45 levels \"\",\" $14.00 \",..: 44 39 45 40 43 38 37 45 42 36 ...\n",
      " $ Manager.Name       : Factor w/ 11 levels \"\",\"Amy Dunn\",..: 6 6 6 6 6 6 6 6 6 6 ...\n",
      " $ Performance.Score  : Factor w/ 8 levels \"\",\"90-day meets\",..: 5 5 3 5 5 5 7 3 5 5 ...\n",
      " $ Abutments.Hour.Wk.1: int  0 0 0 0 0 0 0 0 0 0 ...\n",
      " $ Abutments.Hour.Wk.2: int  0 0 0 0 0 0 0 0 0 0 ...\n",
      " $ Daily.Error.Rate   : int  0 0 0 0 0 0 0 0 0 0 ...\n",
      " $ X90.day.Complaints : int  0 0 0 0 0 0 0 0 0 0 ...\n"
     ]
    }
   ],
   "source": [
    "str(hrdta[[2]]) # production staff"
   ]
  },
  {
   "cell_type": "markdown",
   "metadata": {},
   "source": [
    "다음으로 2번째 dataset에 대한 요약을 해보았습니다. 총 256개의 변수 중 구분이 될만한 Employee.Name에는 210개가 있습니다. 이들 역시 중복된 데이터로 볼 수 있는데 단순 중복이 아니라 레코드가 누적됨에 따라 변화된 사람일수도 있습니다. 따라서 이들 정보에 대해 확인하도록 하겠습니다."
   ]
  },
  {
   "cell_type": "code",
   "execution_count": 266,
   "metadata": {},
   "outputs": [
    {
     "data": {
      "text/html": [
       "<table>\n",
       "<thead><tr><th></th><th scope=col>Employee.Name</th><th scope=col>Race.Desc</th><th scope=col>Date.of.Hire</th><th scope=col>TermDate</th><th scope=col>Reason.for.Term</th><th scope=col>Employment.Status</th><th scope=col>Department</th><th scope=col>Position</th><th scope=col>Pay</th><th scope=col>Manager.Name</th><th scope=col>Performance.Score</th><th scope=col>Abutments.Hour.Wk.1</th><th scope=col>Abutments.Hour.Wk.2</th><th scope=col>Daily.Error.Rate</th><th scope=col>X90.day.Complaints</th></tr></thead>\n",
       "<tbody>\n",
       "\t<tr><th scope=row>211</th><td>  </td><td>  </td><td>  </td><td>  </td><td>  </td><td>  </td><td>  </td><td>  </td><td>  </td><td>  </td><td>  </td><td>NA</td><td>NA</td><td>NA</td><td>NA</td></tr>\n",
       "\t<tr><th scope=row>212</th><td>  </td><td>  </td><td>  </td><td>  </td><td>  </td><td>  </td><td>  </td><td>  </td><td>  </td><td>  </td><td>  </td><td>NA</td><td>NA</td><td>NA</td><td>NA</td></tr>\n",
       "\t<tr><th scope=row>213</th><td>  </td><td>  </td><td>  </td><td>  </td><td>  </td><td>  </td><td>  </td><td>  </td><td>  </td><td>  </td><td>  </td><td>NA</td><td>NA</td><td>NA</td><td>NA</td></tr>\n",
       "\t<tr><th scope=row>214</th><td>  </td><td>  </td><td>  </td><td>  </td><td>  </td><td>  </td><td>  </td><td>  </td><td>  </td><td>  </td><td>  </td><td>NA</td><td>NA</td><td>NA</td><td>NA</td></tr>\n",
       "\t<tr><th scope=row>215</th><td>  </td><td>  </td><td>  </td><td>  </td><td>  </td><td>  </td><td>  </td><td>  </td><td>  </td><td>  </td><td>  </td><td>NA</td><td>NA</td><td>NA</td><td>NA</td></tr>\n",
       "\t<tr><th scope=row>216</th><td>  </td><td>  </td><td>  </td><td>  </td><td>  </td><td>  </td><td>  </td><td>  </td><td>  </td><td>  </td><td>  </td><td>NA</td><td>NA</td><td>NA</td><td>NA</td></tr>\n",
       "\t<tr><th scope=row>217</th><td>  </td><td>  </td><td>  </td><td>  </td><td>  </td><td>  </td><td>  </td><td>  </td><td>  </td><td>  </td><td>  </td><td>NA</td><td>NA</td><td>NA</td><td>NA</td></tr>\n",
       "\t<tr><th scope=row>218</th><td>  </td><td>  </td><td>  </td><td>  </td><td>  </td><td>  </td><td>  </td><td>  </td><td>  </td><td>  </td><td>  </td><td>NA</td><td>NA</td><td>NA</td><td>NA</td></tr>\n",
       "\t<tr><th scope=row>219</th><td>  </td><td>  </td><td>  </td><td>  </td><td>  </td><td>  </td><td>  </td><td>  </td><td>  </td><td>  </td><td>  </td><td>NA</td><td>NA</td><td>NA</td><td>NA</td></tr>\n",
       "\t<tr><th scope=row>220</th><td>  </td><td>  </td><td>  </td><td>  </td><td>  </td><td>  </td><td>  </td><td>  </td><td>  </td><td>  </td><td>  </td><td>NA</td><td>NA</td><td>NA</td><td>NA</td></tr>\n",
       "</tbody>\n",
       "</table>\n"
      ],
      "text/latex": [
       "\\begin{tabular}{r|lllllllllllllll}\n",
       "  & Employee.Name & Race.Desc & Date.of.Hire & TermDate & Reason.for.Term & Employment.Status & Department & Position & Pay & Manager.Name & Performance.Score & Abutments.Hour.Wk.1 & Abutments.Hour.Wk.2 & Daily.Error.Rate & X90.day.Complaints\\\\\n",
       "\\hline\n",
       "\t211 &    &    &    &    &    &    &    &    &    &    &    & NA & NA & NA & NA\\\\\n",
       "\t212 &    &    &    &    &    &    &    &    &    &    &    & NA & NA & NA & NA\\\\\n",
       "\t213 &    &    &    &    &    &    &    &    &    &    &    & NA & NA & NA & NA\\\\\n",
       "\t214 &    &    &    &    &    &    &    &    &    &    &    & NA & NA & NA & NA\\\\\n",
       "\t215 &    &    &    &    &    &    &    &    &    &    &    & NA & NA & NA & NA\\\\\n",
       "\t216 &    &    &    &    &    &    &    &    &    &    &    & NA & NA & NA & NA\\\\\n",
       "\t217 &    &    &    &    &    &    &    &    &    &    &    & NA & NA & NA & NA\\\\\n",
       "\t218 &    &    &    &    &    &    &    &    &    &    &    & NA & NA & NA & NA\\\\\n",
       "\t219 &    &    &    &    &    &    &    &    &    &    &    & NA & NA & NA & NA\\\\\n",
       "\t220 &    &    &    &    &    &    &    &    &    &    &    & NA & NA & NA & NA\\\\\n",
       "\\end{tabular}\n"
      ],
      "text/markdown": [
       "\n",
       "| <!--/--> | Employee.Name | Race.Desc | Date.of.Hire | TermDate | Reason.for.Term | Employment.Status | Department | Position | Pay | Manager.Name | Performance.Score | Abutments.Hour.Wk.1 | Abutments.Hour.Wk.2 | Daily.Error.Rate | X90.day.Complaints | \n",
       "|---|---|---|---|---|---|---|---|---|---|\n",
       "| 211 |    |    |    |    |    |    |    |    |    |    |    | NA | NA | NA | NA | \n",
       "| 212 |    |    |    |    |    |    |    |    |    |    |    | NA | NA | NA | NA | \n",
       "| 213 |    |    |    |    |    |    |    |    |    |    |    | NA | NA | NA | NA | \n",
       "| 214 |    |    |    |    |    |    |    |    |    |    |    | NA | NA | NA | NA | \n",
       "| 215 |    |    |    |    |    |    |    |    |    |    |    | NA | NA | NA | NA | \n",
       "| 216 |    |    |    |    |    |    |    |    |    |    |    | NA | NA | NA | NA | \n",
       "| 217 |    |    |    |    |    |    |    |    |    |    |    | NA | NA | NA | NA | \n",
       "| 218 |    |    |    |    |    |    |    |    |    |    |    | NA | NA | NA | NA | \n",
       "| 219 |    |    |    |    |    |    |    |    |    |    |    | NA | NA | NA | NA | \n",
       "| 220 |    |    |    |    |    |    |    |    |    |    |    | NA | NA | NA | NA | \n",
       "\n",
       "\n"
      ],
      "text/plain": [
       "    Employee.Name Race.Desc Date.of.Hire TermDate Reason.for.Term\n",
       "211                                                              \n",
       "212                                                              \n",
       "213                                                              \n",
       "214                                                              \n",
       "215                                                              \n",
       "216                                                              \n",
       "217                                                              \n",
       "218                                                              \n",
       "219                                                              \n",
       "220                                                              \n",
       "    Employment.Status Department Position Pay Manager.Name Performance.Score\n",
       "211                                                                         \n",
       "212                                                                         \n",
       "213                                                                         \n",
       "214                                                                         \n",
       "215                                                                         \n",
       "216                                                                         \n",
       "217                                                                         \n",
       "218                                                                         \n",
       "219                                                                         \n",
       "220                                                                         \n",
       "    Abutments.Hour.Wk.1 Abutments.Hour.Wk.2 Daily.Error.Rate X90.day.Complaints\n",
       "211 NA                  NA                  NA               NA                \n",
       "212 NA                  NA                  NA               NA                \n",
       "213 NA                  NA                  NA               NA                \n",
       "214 NA                  NA                  NA               NA                \n",
       "215 NA                  NA                  NA               NA                \n",
       "216 NA                  NA                  NA               NA                \n",
       "217 NA                  NA                  NA               NA                \n",
       "218 NA                  NA                  NA               NA                \n",
       "219 NA                  NA                  NA               NA                \n",
       "220 NA                  NA                  NA               NA                "
      ]
     },
     "metadata": {},
     "output_type": "display_data"
    }
   ],
   "source": [
    "head(hrdta[[2]][which(duplicated(hrdta[[2]]$Employee.Name)),],10)"
   ]
  },
  {
   "cell_type": "markdown",
   "metadata": {},
   "source": [
    "알고보니 NA값들이 입력되어 있는 불필요한 레코드입니다. 이들은 모두 삭제하도록 하겠습니다.\n",
    "\n",
    "혹시라도 실제 값임에도 불구하고 Missing value가 들어가 있을수도 있으니 그러한 경우가 있는지 확인을 먼저 하도록 하겠습니다."
   ]
  },
  {
   "cell_type": "code",
   "execution_count": 267,
   "metadata": {},
   "outputs": [
    {
     "data": {
      "text/html": [
       "<table>\n",
       "<thead><tr><th></th><th scope=col>Employee.Name</th><th scope=col>Abutments.Hour.Wk.1</th><th scope=col>Abutments.Hour.Wk.2</th><th scope=col>Daily.Error.Rate</th><th scope=col>X90.day.Complaints</th></tr></thead>\n",
       "<tbody>\n",
       "\t<tr><th scope=row>209</th><td>Woodson, Jason</td><td>NA            </td><td>NA            </td><td>NA            </td><td>NA            </td></tr>\n",
       "\t<tr><th scope=row>210</th><td>              </td><td>NA            </td><td>NA            </td><td>NA            </td><td>NA            </td></tr>\n",
       "\t<tr><th scope=row>211</th><td>              </td><td>NA            </td><td>NA            </td><td>NA            </td><td>NA            </td></tr>\n",
       "\t<tr><th scope=row>212</th><td>              </td><td>NA            </td><td>NA            </td><td>NA            </td><td>NA            </td></tr>\n",
       "\t<tr><th scope=row>213</th><td>              </td><td>NA            </td><td>NA            </td><td>NA            </td><td>NA            </td></tr>\n",
       "\t<tr><th scope=row>214</th><td>              </td><td>NA            </td><td>NA            </td><td>NA            </td><td>NA            </td></tr>\n",
       "\t<tr><th scope=row>215</th><td>              </td><td>NA            </td><td>NA            </td><td>NA            </td><td>NA            </td></tr>\n",
       "\t<tr><th scope=row>216</th><td>              </td><td>NA            </td><td>NA            </td><td>NA            </td><td>NA            </td></tr>\n",
       "\t<tr><th scope=row>217</th><td>              </td><td>NA            </td><td>NA            </td><td>NA            </td><td>NA            </td></tr>\n",
       "\t<tr><th scope=row>218</th><td>              </td><td>NA            </td><td>NA            </td><td>NA            </td><td>NA            </td></tr>\n",
       "</tbody>\n",
       "</table>\n"
      ],
      "text/latex": [
       "\\begin{tabular}{r|lllll}\n",
       "  & Employee.Name & Abutments.Hour.Wk.1 & Abutments.Hour.Wk.2 & Daily.Error.Rate & X90.day.Complaints\\\\\n",
       "\\hline\n",
       "\t209 & Woodson, Jason & NA             & NA             & NA             & NA            \\\\\n",
       "\t210 &                & NA             & NA             & NA             & NA            \\\\\n",
       "\t211 &                & NA             & NA             & NA             & NA            \\\\\n",
       "\t212 &                & NA             & NA             & NA             & NA            \\\\\n",
       "\t213 &                & NA             & NA             & NA             & NA            \\\\\n",
       "\t214 &                & NA             & NA             & NA             & NA            \\\\\n",
       "\t215 &                & NA             & NA             & NA             & NA            \\\\\n",
       "\t216 &                & NA             & NA             & NA             & NA            \\\\\n",
       "\t217 &                & NA             & NA             & NA             & NA            \\\\\n",
       "\t218 &                & NA             & NA             & NA             & NA            \\\\\n",
       "\\end{tabular}\n"
      ],
      "text/markdown": [
       "\n",
       "| <!--/--> | Employee.Name | Abutments.Hour.Wk.1 | Abutments.Hour.Wk.2 | Daily.Error.Rate | X90.day.Complaints | \n",
       "|---|---|---|---|---|---|---|---|---|---|\n",
       "| 209 | Woodson, Jason | NA             | NA             | NA             | NA             | \n",
       "| 210 |                | NA             | NA             | NA             | NA             | \n",
       "| 211 |                | NA             | NA             | NA             | NA             | \n",
       "| 212 |                | NA             | NA             | NA             | NA             | \n",
       "| 213 |                | NA             | NA             | NA             | NA             | \n",
       "| 214 |                | NA             | NA             | NA             | NA             | \n",
       "| 215 |                | NA             | NA             | NA             | NA             | \n",
       "| 216 |                | NA             | NA             | NA             | NA             | \n",
       "| 217 |                | NA             | NA             | NA             | NA             | \n",
       "| 218 |                | NA             | NA             | NA             | NA             | \n",
       "\n",
       "\n"
      ],
      "text/plain": [
       "    Employee.Name  Abutments.Hour.Wk.1 Abutments.Hour.Wk.2 Daily.Error.Rate\n",
       "209 Woodson, Jason NA                  NA                  NA              \n",
       "210                NA                  NA                  NA              \n",
       "211                NA                  NA                  NA              \n",
       "212                NA                  NA                  NA              \n",
       "213                NA                  NA                  NA              \n",
       "214                NA                  NA                  NA              \n",
       "215                NA                  NA                  NA              \n",
       "216                NA                  NA                  NA              \n",
       "217                NA                  NA                  NA              \n",
       "218                NA                  NA                  NA              \n",
       "    X90.day.Complaints\n",
       "209 NA                \n",
       "210 NA                \n",
       "211 NA                \n",
       "212 NA                \n",
       "213 NA                \n",
       "214 NA                \n",
       "215 NA                \n",
       "216 NA                \n",
       "217 NA                \n",
       "218 NA                "
      ]
     },
     "metadata": {},
     "output_type": "display_data"
    }
   ],
   "source": [
    "head(subset(hrdta[[2]],\n",
    "      select=c(Employee.Name, \n",
    "               Abutments.Hour.Wk.1, \n",
    "               Abutments.Hour.Wk.2, \n",
    "               Daily.Error.Rate, \n",
    "               X90.day.Complaints),\n",
    "      subset= is.na(hrdta[[2]]$Abutments.Hour.Wk.1)),10)"
   ]
  },
  {
   "cell_type": "markdown",
   "metadata": {},
   "source": [
    "예상대로 확인해보니 Woodson, Jason의 경우는 이름이 있지만 Abutments.Hour.Wk.1 / \n",
    "Abutments.Hour.Wk.2 / \n",
    "Daily.Error.Rate / \n",
    "X90.day.Complaints 의 항목에서 missing value가 있습니다. (편의상 10개의 레코드만 보여드렸습니다. 전체적으로 확인해보아도 위 경우와 동일합니다)\n",
    "\n",
    "함부로 지웠다가는 Woodson, Jason의 레코드를 날릴 뻔 했습니다. 따라서 이 사람을 제외하고 공란으로 들어 있는 레코드를 삭제하도록 하겠습니다."
   ]
  },
  {
   "cell_type": "code",
   "execution_count": 268,
   "metadata": {},
   "outputs": [
    {
     "data": {
      "text/html": [
       "<table>\n",
       "<thead><tr><th></th><th scope=col>Employee.Name</th><th scope=col>Race.Desc</th><th scope=col>Date.of.Hire</th><th scope=col>TermDate</th><th scope=col>Reason.for.Term</th><th scope=col>Employment.Status</th><th scope=col>Department</th><th scope=col>Position</th><th scope=col>Pay</th><th scope=col>Manager.Name</th><th scope=col>Performance.Score</th><th scope=col>Abutments.Hour.Wk.1</th><th scope=col>Abutments.Hour.Wk.2</th><th scope=col>Daily.Error.Rate</th><th scope=col>X90.day.Complaints</th></tr></thead>\n",
       "<tbody>\n",
       "\t<tr><th scope=row>207</th><td>Winthrop, Jordan        </td><td>White                   </td><td>1/7/2013                </td><td>2/21/2016               </td><td>retiring                </td><td>Voluntarily Terminated  </td><td>Production              </td><td>Production Technician II</td><td> $29.00                 </td><td>Brannon Miller          </td><td>Exceeds                 </td><td>12                      </td><td>11                      </td><td> 0                      </td><td> 0                      </td></tr>\n",
       "\t<tr><th scope=row>208</th><td>Wolk, Hang  T           </td><td>White                   </td><td>9/29/2014               </td><td>                        </td><td>N/A - still employed    </td><td>Active                  </td><td>Production              </td><td>Production Technician II</td><td> $22.00                 </td><td>David Stanley           </td><td>Fully Meets             </td><td>12                      </td><td>17                      </td><td> 0                      </td><td> 0                      </td></tr>\n",
       "\t<tr><th scope=row>209</th><td>Woodson, Jason          </td><td>White                   </td><td>7/7/2014                </td><td>                        </td><td>N/A - still employed    </td><td>Active                  </td><td>Production              </td><td>Production Technician II</td><td> $24.25                 </td><td>Kissy Sullivan          </td><td>Fully Meets             </td><td>NA                      </td><td>NA                      </td><td>NA                      </td><td>NA                      </td></tr>\n",
       "</tbody>\n",
       "</table>\n"
      ],
      "text/latex": [
       "\\begin{tabular}{r|lllllllllllllll}\n",
       "  & Employee.Name & Race.Desc & Date.of.Hire & TermDate & Reason.for.Term & Employment.Status & Department & Position & Pay & Manager.Name & Performance.Score & Abutments.Hour.Wk.1 & Abutments.Hour.Wk.2 & Daily.Error.Rate & X90.day.Complaints\\\\\n",
       "\\hline\n",
       "\t207 & Winthrop, Jordan         & White                    & 1/7/2013                 & 2/21/2016                & retiring                 & Voluntarily Terminated   & Production               & Production Technician II &  \\$29.00                & Brannon Miller           & Exceeds                  & 12                       & 11                       &  0                       &  0                      \\\\\n",
       "\t208 & Wolk, Hang  T            & White                    & 9/29/2014                &                          & N/A - still employed     & Active                   & Production               & Production Technician II &  \\$22.00                & David Stanley            & Fully Meets              & 12                       & 17                       &  0                       &  0                      \\\\\n",
       "\t209 & Woodson, Jason           & White                    & 7/7/2014                 &                          & N/A - still employed     & Active                   & Production               & Production Technician II &  \\$24.25                & Kissy Sullivan           & Fully Meets              & NA                       & NA                       & NA                       & NA                      \\\\\n",
       "\\end{tabular}\n"
      ],
      "text/markdown": [
       "\n",
       "| <!--/--> | Employee.Name | Race.Desc | Date.of.Hire | TermDate | Reason.for.Term | Employment.Status | Department | Position | Pay | Manager.Name | Performance.Score | Abutments.Hour.Wk.1 | Abutments.Hour.Wk.2 | Daily.Error.Rate | X90.day.Complaints | \n",
       "|---|---|---|\n",
       "| 207 | Winthrop, Jordan         | White                    | 1/7/2013                 | 2/21/2016                | retiring                 | Voluntarily Terminated   | Production               | Production Technician II |  $29.00                  | Brannon Miller           | Exceeds                  | 12                       | 11                       |  0                       |  0                       | \n",
       "| 208 | Wolk, Hang  T            | White                    | 9/29/2014                |                          | N/A - still employed     | Active                   | Production               | Production Technician II |  $22.00                  | David Stanley            | Fully Meets              | 12                       | 17                       |  0                       |  0                       | \n",
       "| 209 | Woodson, Jason           | White                    | 7/7/2014                 |                          | N/A - still employed     | Active                   | Production               | Production Technician II |  $24.25                  | Kissy Sullivan           | Fully Meets              | NA                       | NA                       | NA                       | NA                       | \n",
       "\n",
       "\n"
      ],
      "text/plain": [
       "    Employee.Name      Race.Desc Date.of.Hire TermDate  Reason.for.Term     \n",
       "207 Winthrop, Jordan   White     1/7/2013     2/21/2016 retiring            \n",
       "208 Wolk, Hang  T      White     9/29/2014              N/A - still employed\n",
       "209 Woodson, Jason     White     7/7/2014               N/A - still employed\n",
       "    Employment.Status      Department        Position                 Pay     \n",
       "207 Voluntarily Terminated Production        Production Technician II  $29.00 \n",
       "208 Active                 Production        Production Technician II  $22.00 \n",
       "209 Active                 Production        Production Technician II  $24.25 \n",
       "    Manager.Name   Performance.Score Abutments.Hour.Wk.1 Abutments.Hour.Wk.2\n",
       "207 Brannon Miller Exceeds           12                  11                 \n",
       "208 David Stanley  Fully Meets       12                  17                 \n",
       "209 Kissy Sullivan Fully Meets       NA                  NA                 \n",
       "    Daily.Error.Rate X90.day.Complaints\n",
       "207  0                0                \n",
       "208  0                0                \n",
       "209 NA               NA                "
      ]
     },
     "metadata": {},
     "output_type": "display_data"
    },
    {
     "name": "stdout",
     "output_type": "stream",
     "text": [
      "'data.frame':\t209 obs. of  15 variables:\n",
      " $ Employee.Name      : Factor w/ 210 levels \"\",\"Adinolfi, Wilson  K\",..: 5 22 28 50 79 88 93 113 130 152 ...\n",
      " $ Race.Desc          : Factor w/ 7 levels \"\",\"American Indian or Alaska Native\",..: 7 3 7 7 7 7 3 7 5 7 ...\n",
      " $ Date.of.Hire       : Factor w/ 71 levels \"\",\"1/10/2011\",..: 59 71 3 66 42 2 25 71 62 12 ...\n",
      " $ TermDate           : Factor w/ 77 levels \"\",\"1/11/2014\",..: 1 63 1 1 1 18 69 1 1 42 ...\n",
      " $ Reason.for.Term    : Factor w/ 18 levels \"\",\"Another position\",..: 12 16 12 12 12 3 18 12 12 2 ...\n",
      " $ Employment.Status  : Factor w/ 6 levels \"\",\"Active\",\"Future Start\",..: 2 6 2 2 2 5 6 2 2 6 ...\n",
      " $ Department         : Factor w/ 2 levels \"\",\"Production       \": 2 2 2 2 2 2 2 2 2 2 ...\n",
      " $ Position           : Factor w/ 4 levels \"\",\"Production Manager\",..: 2 2 2 2 2 2 2 2 2 2 ...\n",
      " $ Pay                : Factor w/ 45 levels \"\",\" $14.00 \",..: 44 39 45 40 43 38 37 45 42 36 ...\n",
      " $ Manager.Name       : Factor w/ 11 levels \"\",\"Amy Dunn\",..: 6 6 6 6 6 6 6 6 6 6 ...\n",
      " $ Performance.Score  : Factor w/ 8 levels \"\",\"90-day meets\",..: 5 5 3 5 5 5 7 3 5 5 ...\n",
      " $ Abutments.Hour.Wk.1: int  0 0 0 0 0 0 0 0 0 0 ...\n",
      " $ Abutments.Hour.Wk.2: int  0 0 0 0 0 0 0 0 0 0 ...\n",
      " $ Daily.Error.Rate   : int  0 0 0 0 0 0 0 0 0 0 ...\n",
      " $ X90.day.Complaints : int  0 0 0 0 0 0 0 0 0 0 ...\n"
     ]
    }
   ],
   "source": [
    "hrdta2 <- subset(hrdta[[2]],hrdta[[2]]$Employee.Name != \"\" | !is.na(hrdta[[2]]$Abutments.Hour.Wk.1))\n",
    "tail(hrdta2,3)\n",
    "\n",
    "str(hrdta2)"
   ]
  },
  {
   "cell_type": "markdown",
   "metadata": {},
   "source": [
    "Employee Name이 비어있지 않거나(or) Abutments.Hour.Wk.1이 missing이 아닌 경우를 통하여 subset을 추출한 뒤, 이를 hrdta2라는 변수로 만들었습니다. 이후 요약을 해보니 여전히 209개의 변수 중에 210개의 레벨이 있다는 걸 확인했습니다. 데이터 중 일부가 전체 공란이 들어 있는 것 같습니다. 이 부분은 추후에 처리하도록 하겠습니다."
   ]
  },
  {
   "cell_type": "code",
   "execution_count": 269,
   "metadata": {},
   "outputs": [
    {
     "name": "stdout",
     "output_type": "stream",
     "text": [
      "'data.frame':\t22 obs. of  14 variables:\n",
      " $ Employment.Source: Factor w/ 22 levels \"Billboard\",\"Careerbuilder\",..: 1 2 3 4 5 6 7 8 9 10 ...\n",
      " $ January          : int  520 410 0 0 0 0 0 0 640 500 ...\n",
      " $ February         : int  520 410 0 5129 0 0 0 0 640 500 ...\n",
      " $ March            : int  520 410 0 0 0 0 0 0 640 500 ...\n",
      " $ April            : int  520 820 0 0 0 0 0 0 640 440 ...\n",
      " $ May              : int  0 820 0 0 0 0 0 0 640 500 ...\n",
      " $ June             : int  0 410 0 0 0 0 0 0 640 500 ...\n",
      " $ July             : int  612 410 0 0 0 0 0 0 640 440 ...\n",
      " $ August           : int  612 820 0 4892 0 0 0 0 1300 500 ...\n",
      " $ September        : int  729 820 0 0 0 0 0 0 1300 440 ...\n",
      " $ October          : int  749 1230 0 0 0 0 0 0 1300 440 ...\n",
      " $ November         : int  910 820 0 0 0 0 0 0 1300 500 ...\n",
      " $ December         : int  500 410 0 0 0 0 0 0 1300 500 ...\n",
      " $ Total            : int  6192 7790 0 10021 0 0 0 0 10980 5760 ...\n",
      "'data.frame':\t12 obs. of  7 variables:\n",
      " $ Position  : Factor w/ 12 levels \"Accountant I\",..: 3 10 1 2 9 6 12 4 11 7 ...\n",
      " $ salary_min: int  30000 35000 42274 50490 63264 50845 79428 50569 92863 30000 ...\n",
      " $ salary_mid: int  40000 45000 51425 62158 76988 66850 99458 68306 116007 40000 ...\n",
      " $ salary_max: int  50000 55000 62299 74658 92454 88279 120451 93312 139170 50000 ...\n",
      " $ hourly_min: num  14.4 16.8 20.3 24.3 30.4 ...\n",
      " $ hourly_mid: num  19.2 21.6 24.7 29.9 37 ...\n",
      " $ hourly_max: num  24 26.4 29.9 35.9 44.5 ...\n"
     ]
    }
   ],
   "source": [
    "str(hrdta[[3]])\n",
    "str(hrdta[[4]])"
   ]
  },
  {
   "cell_type": "markdown",
   "metadata": {},
   "source": [
    "다음으로 hrdta[[3]]과 hrdta[[4]]에 대해 확인을 하였습니다. 실질적인 데이터 셋이라기 보다는 부수적인 정보를 담고 있는 데이터 셋이기 때문에 별도로 전처리를 해야 할 것은 안 보입니다."
   ]
  },
  {
   "cell_type": "code",
   "execution_count": 270,
   "metadata": {},
   "outputs": [],
   "source": [
    "dir.create(\"use\")\n",
    "setwd(\"use\")\n",
    "\n",
    "write.csv(hrdta1,'hrdta1.csv')\n",
    "write.csv(hrdta2,'hrdta2.csv')"
   ]
  },
  {
   "cell_type": "code",
   "execution_count": null,
   "metadata": {},
   "outputs": [],
   "source": []
  },
  {
   "cell_type": "code",
   "execution_count": null,
   "metadata": {},
   "outputs": [],
   "source": []
  }
 ],
 "metadata": {
  "kernelspec": {
   "display_name": "R",
   "language": "R",
   "name": "ir"
  },
  "language_info": {
   "codemirror_mode": "r",
   "file_extension": ".r",
   "mimetype": "text/x-r-source",
   "name": "R",
   "pygments_lexer": "r",
   "version": "3.5.0"
  }
 },
 "nbformat": 4,
 "nbformat_minor": 2
}
